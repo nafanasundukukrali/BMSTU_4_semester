{
 "cells": [
  {
   "cell_type": "markdown",
   "id": "e54ba183",
   "metadata": {},
   "source": [
    "### Вычислительные алгоритмы, ЛР № 1"
   ]
  },
  {
   "cell_type": "markdown",
   "id": "0236069c",
   "metadata": {},
   "source": [
    "Универсальная функция для вычисления коэффициентов интерполяции (полины Эрмита и Ньютона). "
   ]
  },
  {
   "cell_type": "code",
   "execution_count": null,
   "id": "7c46686c",
   "metadata": {},
   "outputs": [],
   "source": [
    "def getInterpolationCoefficients(preparedData: list[list[float]]) -> list[float]:\n",
    "    result = [preparedData[_][1] for _ in range(len(preparedData))]\n",
    "\n",
    "    step = 1\n",
    "\n",
    "    while step < len(preparedData):\n",
    "        last_result = result[step-1];\n",
    "\n",
    "        for i in range (step, len(preparedData)):\n",
    "            pre_last_result = result[i];\n",
    "\n",
    "            if preparedData[i - step][0] == preparedData[i][0]:\n",
    "                result[i] = preparedData[i][step] / factorial(step)\n",
    "            else:\n",
    "                result[i] = ((result[i] - last_result) /\n",
    "                (preparedData[i][0] - preparedData[i - step][0]))\n",
    "\n",
    "            last_result = pre_last_result\n",
    "        \n",
    "        step += 1\n",
    "\n",
    "\n",
    "    return result"
   ]
  }
 ],
 "metadata": {
  "kernelspec": {
   "display_name": "Python 3 (ipykernel)",
   "language": "python",
   "name": "python3"
  },
  "language_info": {
   "codemirror_mode": {
    "name": "ipython",
    "version": 3
   },
   "file_extension": ".py",
   "mimetype": "text/x-python",
   "name": "python",
   "nbconvert_exporter": "python",
   "pygments_lexer": "ipython3",
   "version": "3.10.6"
  }
 },
 "nbformat": 4,
 "nbformat_minor": 5
}
